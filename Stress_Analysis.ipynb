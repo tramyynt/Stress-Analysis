{
  "nbformat": 4,
  "nbformat_minor": 0,
  "metadata": {
    "colab": {
      "name": "Stress_Analysis.ipynb",
      "provenance": [],
      "mount_file_id": "1niXV4FAJfHVdCKppv5Vw3NGZqYqiUEOV",
      "authorship_tag": "ABX9TyNxNPrUzNB22P/sdePVwlDE",
      "include_colab_link": true
    },
    "kernelspec": {
      "name": "python3",
      "display_name": "Python 3"
    },
    "language_info": {
      "name": "python"
    }
  },
  "cells": [
    {
      "cell_type": "markdown",
      "metadata": {
        "id": "view-in-github",
        "colab_type": "text"
      },
      "source": [
        "<a href=\"https://colab.research.google.com/github/tramyynt/Stress-Analysis/blob/main/Stress_Analysis.ipynb\" target=\"_parent\"><img src=\"https://colab.research.google.com/assets/colab-badge.svg\" alt=\"Open In Colab\"/></a>"
      ]
    },
    {
      "cell_type": "markdown",
      "metadata": {
        "id": "Jzs04t9-3vC9"
      },
      "source": [
        "Using Text Mining, NLP and Classification algorithms to classify a comment on Reddit is stressed or non-stressed.\n",
        "\n"
      ]
    },
    {
      "cell_type": "markdown",
      "metadata": {
        "id": "EB_QdiRSJXlZ"
      },
      "source": [
        "## **Data Preparation**"
      ]
    },
    {
      "cell_type": "code",
      "metadata": {
        "id": "RvvimFK42Wu3"
      },
      "source": [
        "#import lib\n",
        "! pip install -q kaggle\n",
        "import pandas as pd\n",
        "import matplotlib.pyplot as plt\n",
        "import seaborn as sns\n",
        "import numpy as np\n",
        "\n",
        "import nltk\n",
        "from nltk.corpus import stopwords\n",
        "from nltk.corpus import RegexpTokenizer\n",
        "from nltk.tokenize import word_tokenize\n",
        "from nltk.stem import WordNetLemmatizer\n",
        "from nltk.stem.porter import PorterStemmer\n",
        "\n"
      ],
      "execution_count": null,
      "outputs": []
    },
    {
      "cell_type": "code",
      "metadata": {
        "colab": {
          "resources": {
            "http://localhost:8080/nbextensions/google.colab/files.js": {
              "data": "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",
              "ok": true,
              "headers": [
                [
                  "content-type",
                  "application/javascript"
                ]
              ],
              "status": 200,
              "status_text": ""
            }
          },
          "base_uri": "https://localhost:8080/",
          "height": 89
        },
        "id": "b88bb9qSEwwO",
        "outputId": "932a1b55-2797-4ce8-a371-6f829dadba17"
      },
      "source": [
        "from google.colab import files\n",
        "\n",
        "files.upload()"
      ],
      "execution_count": null,
      "outputs": [
        {
          "output_type": "display_data",
          "data": {
            "text/html": [
              "\n",
              "     <input type=\"file\" id=\"files-dc484139-a65d-4353-a157-616bc34ff92a\" name=\"files[]\" multiple disabled\n",
              "        style=\"border:none\" />\n",
              "     <output id=\"result-dc484139-a65d-4353-a157-616bc34ff92a\">\n",
              "      Upload widget is only available when the cell has been executed in the\n",
              "      current browser session. Please rerun this cell to enable.\n",
              "      </output>\n",
              "      <script src=\"/nbextensions/google.colab/files.js\"></script> "
            ],
            "text/plain": [
              "<IPython.core.display.HTML object>"
            ]
          },
          "metadata": {
            "tags": []
          }
        },
        {
          "output_type": "stream",
          "text": [
            "Saving kaggle.json to kaggle.json\n"
          ],
          "name": "stdout"
        },
        {
          "output_type": "execute_result",
          "data": {
            "text/plain": [
              "{'kaggle.json': b'{\"username\":\"tramyynt26\",\"key\":\"d3e9f3fd41fa1c8ba08273c29eca6c96\"}'}"
            ]
          },
          "metadata": {
            "tags": []
          },
          "execution_count": 5
        }
      ]
    },
    {
      "cell_type": "code",
      "metadata": {
        "id": "zEYrFiNCFPaY",
        "colab": {
          "base_uri": "https://localhost:8080/"
        },
        "outputId": "61ff571e-63d9-4373-c1c7-2d725d1c5af8"
      },
      "source": [
        "! mkdir ~/.kaggle\n",
        "\n",
        "! cp kaggle.json ~/.kaggle/"
      ],
      "execution_count": null,
      "outputs": [
        {
          "output_type": "stream",
          "text": [
            "mkdir: cannot create directory ‘/root/.kaggle’: File exists\n"
          ],
          "name": "stdout"
        }
      ]
    },
    {
      "cell_type": "code",
      "metadata": {
        "id": "HK81EtS4FYgf"
      },
      "source": [
        "! chmod 600 ~/.kaggle/kaggle.json"
      ],
      "execution_count": null,
      "outputs": []
    },
    {
      "cell_type": "code",
      "metadata": {
        "colab": {
          "base_uri": "https://localhost:8080/"
        },
        "id": "axNDJbIEFg3q",
        "outputId": "1ea12214-622b-4b94-f31e-42f0a09d4082"
      },
      "source": [
        "! kaggle datasets list"
      ],
      "execution_count": null,
      "outputs": [
        {
          "output_type": "stream",
          "text": [
            "Warning: Your Kaggle API key is readable by other users on this system! To fix this, you can run 'chmod 600 /root/.kaggle/kaggle.json'\n",
            "Warning: Looks like you're using an outdated API Version, please consider updating (server 1.5.12 / client 1.5.4)\n",
            "ref                                                         title                                              size  lastUpdated          downloadCount  \n",
            "----------------------------------------------------------  ------------------------------------------------  -----  -------------------  -------------  \n",
            "gpreda/reddit-vaccine-myths                                 Reddit Vaccine Myths                              234KB  2021-08-07 09:10:20          10374  \n",
            "crowww/a-large-scale-fish-dataset                           A Large Scale Fish Dataset                          3GB  2021-04-28 17:03:01           6339  \n",
            "imsparsh/musicnet-dataset                                   MusicNet Dataset                                   22GB  2021-02-18 14:12:19           2373  \n",
            "dhruvildave/wikibooks-dataset                               Wikibooks Dataset                                   2GB  2021-07-03 18:37:20           2590  \n",
            "promptcloud/careerbuilder-job-listing-2020                  Careerbuilder Job Listing 2020                     42MB  2021-03-05 06:59:52           1537  \n",
            "fatiimaezzahra/famous-iconic-women                          Famous Iconic Women                               838MB  2021-02-28 14:56:00           1078  \n",
            "alsgroup/end-als                                            End ALS Kaggle Challenge                           12GB  2021-04-08 12:16:37            826  \n",
            "mathurinache/twitter-edge-nodes                             Twitter Edge Nodes                                342MB  2021-03-08 06:43:04            727  \n",
            "nickuzmenkov/nih-chest-xrays-tfrecords                      NIH Chest X-rays TFRecords                         11GB  2021-03-09 04:49:23            886  \n",
            "simiotic/github-code-snippets                               GitHub Code Snippets                                7GB  2021-03-03 11:34:39            263  \n",
            "coloradokb/dandelionimages                                  DandelionImages                                     4GB  2021-02-19 20:03:47            708  \n",
            "imsparsh/accentdb-core-extended                             AccentDB - Core & Extended                          6GB  2021-02-17 14:22:54            127  \n",
            "stuartjames/lights                                          LightS: Light Specularity Dataset                  18GB  2021-02-18 14:32:26            107  \n",
            "mathurinache/the-lj-speech-dataset                          The LJ Speech Dataset                               3GB  2021-02-15 09:19:54            268  \n",
            "landrykezebou/lvzhdr-tone-mapping-benchmark-dataset-tmonet  LVZ-HDR Tone Mapping Benchmark Dataset (TMO-Net)   24GB  2021-03-01 05:03:40            164  \n",
            "nickuzmenkov/ranzcr-clip-kfold-tfrecords                    RANZCR CLiP KFold TFRecords                         2GB  2021-02-21 13:29:51            115  \n",
            "datasnaek/youtube-new                                       Trending YouTube Video Statistics                 201MB  2019-06-03 00:56:47         146166  \n",
            "zynicide/wine-reviews                                       Wine Reviews                                       51MB  2017-11-27 17:08:04         141505  \n",
            "residentmario/ramen-ratings                                 Ramen Ratings                                      40KB  2018-01-11 16:04:39          25564  \n",
            "datasnaek/chess                                             Chess Game Dataset (Lichess)                        3MB  2017-09-04 03:09:09          20533  \n"
          ],
          "name": "stdout"
        }
      ]
    },
    {
      "cell_type": "code",
      "metadata": {
        "colab": {
          "base_uri": "https://localhost:8080/"
        },
        "id": "fBj-7hlNJLy0",
        "outputId": "d1d3c1d3-a7de-49af-a95c-8942ee5b5cf6"
      },
      "source": [
        "!pip install --upgrade --force-reinstall --no-deps kaggle"
      ],
      "execution_count": null,
      "outputs": [
        {
          "output_type": "stream",
          "text": [
            "Collecting kaggle\n",
            "  Downloading kaggle-1.5.12.tar.gz (58 kB)\n",
            "\u001b[?25l\r\u001b[K     |█████▋                          | 10 kB 26.4 MB/s eta 0:00:01\r\u001b[K     |███████████▏                    | 20 kB 28.5 MB/s eta 0:00:01\r\u001b[K     |████████████████▊               | 30 kB 12.5 MB/s eta 0:00:01\r\u001b[K     |██████████████████████▎         | 40 kB 9.8 MB/s eta 0:00:01\r\u001b[K     |███████████████████████████▉    | 51 kB 5.5 MB/s eta 0:00:01\r\u001b[K     |████████████████████████████████| 58 kB 3.1 MB/s \n",
            "\u001b[?25hBuilding wheels for collected packages: kaggle\n",
            "  Building wheel for kaggle (setup.py) ... \u001b[?25l\u001b[?25hdone\n",
            "  Created wheel for kaggle: filename=kaggle-1.5.12-py3-none-any.whl size=73052 sha256=de8563683a3afc1c11520725224eeb32ae2dfd7b10b3b8087d8ffb2025d440ba\n",
            "  Stored in directory: /root/.cache/pip/wheels/62/d6/58/5853130f941e75b2177d281eb7e44b4a98ed46dd155f556dc5\n",
            "Successfully built kaggle\n",
            "Installing collected packages: kaggle\n",
            "  Attempting uninstall: kaggle\n",
            "    Found existing installation: kaggle 1.5.12\n",
            "    Uninstalling kaggle-1.5.12:\n",
            "      Successfully uninstalled kaggle-1.5.12\n",
            "Successfully installed kaggle-1.5.12\n"
          ],
          "name": "stdout"
        }
      ]
    },
    {
      "cell_type": "code",
      "metadata": {
        "colab": {
          "base_uri": "https://localhost:8080/"
        },
        "id": "_yUiOHwSJcNs",
        "outputId": "5abb73fd-2257-40b6-d645-b816a7b7dfba"
      },
      "source": [
        "!kaggle datasets download ruchi798/stress-analysis-in-social-media -p /content/gdrive/kaggle"
      ],
      "execution_count": null,
      "outputs": [
        {
          "output_type": "stream",
          "text": [
            "Warning: Your Kaggle API key is readable by other users on this system! To fix this, you can run 'chmod 600 /root/.kaggle/kaggle.json'\n",
            "Downloading stress-analysis-in-social-media.zip to /content/gdrive/kaggle\n",
            "  0% 0.00/1.31M [00:00<?, ?B/s]\n",
            "100% 1.31M/1.31M [00:00<00:00, 125MB/s]\n"
          ],
          "name": "stdout"
        }
      ]
    },
    {
      "cell_type": "code",
      "metadata": {
        "colab": {
          "base_uri": "https://localhost:8080/"
        },
        "id": "Rs2YRvySTpPo",
        "outputId": "71f0a667-4c38-48dd-c263-227c1cc2a613"
      },
      "source": [
        "import zipfile\n",
        "from google.colab import drive\n",
        "\n",
        "#drive.mount('/content/drive/')\n",
        "\n",
        "!unzip /content/gdrive/kaggle/stress-analysis-in-social-media.zip -d '/content/gdrive/kaggle'"
      ],
      "execution_count": null,
      "outputs": [
        {
          "output_type": "stream",
          "text": [
            "Archive:  /content/gdrive/kaggle/stress-analysis-in-social-media.zip\n",
            "  inflating: /content/gdrive/kaggle/dreaddit-test.csv  \n",
            "  inflating: /content/gdrive/kaggle/dreaddit-train.csv  \n"
          ],
          "name": "stdout"
        }
      ]
    },
    {
      "cell_type": "code",
      "metadata": {
        "id": "KD2BhO8MWWsc"
      },
      "source": [
        "train = pd.read_csv('/content/gdrive/kaggle/dreaddit-train.csv')\n",
        "test = pd.read_csv('/content/gdrive/kaggle/dreaddit-test.csv')"
      ],
      "execution_count": null,
      "outputs": []
    },
    {
      "cell_type": "code",
      "metadata": {
        "id": "D8GalAnUap2N",
        "colab": {
          "base_uri": "https://localhost:8080/",
          "height": 593
        },
        "outputId": "610820fc-a55b-4d92-b01a-bbd44c59d59e"
      },
      "source": [
        "train.head()"
      ],
      "execution_count": null,
      "outputs": [
        {
          "output_type": "execute_result",
          "data": {
            "text/html": [
              "<div>\n",
              "<style scoped>\n",
              "    .dataframe tbody tr th:only-of-type {\n",
              "        vertical-align: middle;\n",
              "    }\n",
              "\n",
              "    .dataframe tbody tr th {\n",
              "        vertical-align: top;\n",
              "    }\n",
              "\n",
              "    .dataframe thead th {\n",
              "        text-align: right;\n",
              "    }\n",
              "</style>\n",
              "<table border=\"1\" class=\"dataframe\">\n",
              "  <thead>\n",
              "    <tr style=\"text-align: right;\">\n",
              "      <th></th>\n",
              "      <th>subreddit</th>\n",
              "      <th>post_id</th>\n",
              "      <th>sentence_range</th>\n",
              "      <th>text</th>\n",
              "      <th>id</th>\n",
              "      <th>label</th>\n",
              "      <th>confidence</th>\n",
              "      <th>social_timestamp</th>\n",
              "      <th>social_karma</th>\n",
              "      <th>syntax_ari</th>\n",
              "      <th>lex_liwc_WC</th>\n",
              "      <th>lex_liwc_Analytic</th>\n",
              "      <th>lex_liwc_Clout</th>\n",
              "      <th>lex_liwc_Authentic</th>\n",
              "      <th>lex_liwc_Tone</th>\n",
              "      <th>lex_liwc_WPS</th>\n",
              "      <th>lex_liwc_Sixltr</th>\n",
              "      <th>lex_liwc_Dic</th>\n",
              "      <th>lex_liwc_function</th>\n",
              "      <th>lex_liwc_pronoun</th>\n",
              "      <th>lex_liwc_ppron</th>\n",
              "      <th>lex_liwc_i</th>\n",
              "      <th>lex_liwc_we</th>\n",
              "      <th>lex_liwc_you</th>\n",
              "      <th>lex_liwc_shehe</th>\n",
              "      <th>lex_liwc_they</th>\n",
              "      <th>lex_liwc_ipron</th>\n",
              "      <th>lex_liwc_article</th>\n",
              "      <th>lex_liwc_prep</th>\n",
              "      <th>lex_liwc_auxverb</th>\n",
              "      <th>lex_liwc_adverb</th>\n",
              "      <th>lex_liwc_conj</th>\n",
              "      <th>lex_liwc_negate</th>\n",
              "      <th>lex_liwc_verb</th>\n",
              "      <th>lex_liwc_adj</th>\n",
              "      <th>lex_liwc_compare</th>\n",
              "      <th>lex_liwc_interrog</th>\n",
              "      <th>lex_liwc_number</th>\n",
              "      <th>lex_liwc_quant</th>\n",
              "      <th>lex_liwc_affect</th>\n",
              "      <th>...</th>\n",
              "      <th>lex_liwc_motion</th>\n",
              "      <th>lex_liwc_space</th>\n",
              "      <th>lex_liwc_time</th>\n",
              "      <th>lex_liwc_work</th>\n",
              "      <th>lex_liwc_leisure</th>\n",
              "      <th>lex_liwc_home</th>\n",
              "      <th>lex_liwc_money</th>\n",
              "      <th>lex_liwc_relig</th>\n",
              "      <th>lex_liwc_death</th>\n",
              "      <th>lex_liwc_informal</th>\n",
              "      <th>lex_liwc_swear</th>\n",
              "      <th>lex_liwc_netspeak</th>\n",
              "      <th>lex_liwc_assent</th>\n",
              "      <th>lex_liwc_nonflu</th>\n",
              "      <th>lex_liwc_filler</th>\n",
              "      <th>lex_liwc_AllPunc</th>\n",
              "      <th>lex_liwc_Period</th>\n",
              "      <th>lex_liwc_Comma</th>\n",
              "      <th>lex_liwc_Colon</th>\n",
              "      <th>lex_liwc_SemiC</th>\n",
              "      <th>lex_liwc_QMark</th>\n",
              "      <th>lex_liwc_Exclam</th>\n",
              "      <th>lex_liwc_Dash</th>\n",
              "      <th>lex_liwc_Quote</th>\n",
              "      <th>lex_liwc_Apostro</th>\n",
              "      <th>lex_liwc_Parenth</th>\n",
              "      <th>lex_liwc_OtherP</th>\n",
              "      <th>lex_dal_max_pleasantness</th>\n",
              "      <th>lex_dal_max_activation</th>\n",
              "      <th>lex_dal_max_imagery</th>\n",
              "      <th>lex_dal_min_pleasantness</th>\n",
              "      <th>lex_dal_min_activation</th>\n",
              "      <th>lex_dal_min_imagery</th>\n",
              "      <th>lex_dal_avg_activation</th>\n",
              "      <th>lex_dal_avg_imagery</th>\n",
              "      <th>lex_dal_avg_pleasantness</th>\n",
              "      <th>social_upvote_ratio</th>\n",
              "      <th>social_num_comments</th>\n",
              "      <th>syntax_fk_grade</th>\n",
              "      <th>sentiment</th>\n",
              "    </tr>\n",
              "  </thead>\n",
              "  <tbody>\n",
              "    <tr>\n",
              "      <th>0</th>\n",
              "      <td>ptsd</td>\n",
              "      <td>8601tu</td>\n",
              "      <td>(15, 20)</td>\n",
              "      <td>He said he had not felt that way before, sugge...</td>\n",
              "      <td>33181</td>\n",
              "      <td>1</td>\n",
              "      <td>0.8</td>\n",
              "      <td>1521614353</td>\n",
              "      <td>5</td>\n",
              "      <td>1.806818</td>\n",
              "      <td>116</td>\n",
              "      <td>72.64</td>\n",
              "      <td>15.04</td>\n",
              "      <td>89.26</td>\n",
              "      <td>1.00</td>\n",
              "      <td>29.00</td>\n",
              "      <td>12.93</td>\n",
              "      <td>87.07</td>\n",
              "      <td>56.03</td>\n",
              "      <td>16.38</td>\n",
              "      <td>12.07</td>\n",
              "      <td>9.48</td>\n",
              "      <td>0.00</td>\n",
              "      <td>0.86</td>\n",
              "      <td>1.72</td>\n",
              "      <td>0.0</td>\n",
              "      <td>4.31</td>\n",
              "      <td>3.45</td>\n",
              "      <td>19.83</td>\n",
              "      <td>7.76</td>\n",
              "      <td>5.17</td>\n",
              "      <td>4.31</td>\n",
              "      <td>1.72</td>\n",
              "      <td>16.38</td>\n",
              "      <td>6.03</td>\n",
              "      <td>3.45</td>\n",
              "      <td>0.86</td>\n",
              "      <td>1.72</td>\n",
              "      <td>1.72</td>\n",
              "      <td>8.62</td>\n",
              "      <td>...</td>\n",
              "      <td>0.86</td>\n",
              "      <td>10.34</td>\n",
              "      <td>6.03</td>\n",
              "      <td>0.86</td>\n",
              "      <td>0.00</td>\n",
              "      <td>0.00</td>\n",
              "      <td>0.00</td>\n",
              "      <td>2.59</td>\n",
              "      <td>0.0</td>\n",
              "      <td>0.86</td>\n",
              "      <td>0.86</td>\n",
              "      <td>0.00</td>\n",
              "      <td>0.00</td>\n",
              "      <td>0.0</td>\n",
              "      <td>0.0</td>\n",
              "      <td>21.55</td>\n",
              "      <td>9.48</td>\n",
              "      <td>3.45</td>\n",
              "      <td>0.86</td>\n",
              "      <td>0.86</td>\n",
              "      <td>0.0</td>\n",
              "      <td>0.0</td>\n",
              "      <td>0.0</td>\n",
              "      <td>5.17</td>\n",
              "      <td>1.72</td>\n",
              "      <td>0.00</td>\n",
              "      <td>0.00</td>\n",
              "      <td>2.8571</td>\n",
              "      <td>2.6250</td>\n",
              "      <td>3.0</td>\n",
              "      <td>1.000</td>\n",
              "      <td>1.1250</td>\n",
              "      <td>1.0</td>\n",
              "      <td>1.77000</td>\n",
              "      <td>1.52211</td>\n",
              "      <td>1.89556</td>\n",
              "      <td>0.86</td>\n",
              "      <td>1</td>\n",
              "      <td>3.253573</td>\n",
              "      <td>-0.002742</td>\n",
              "    </tr>\n",
              "    <tr>\n",
              "      <th>1</th>\n",
              "      <td>assistance</td>\n",
              "      <td>8lbrx9</td>\n",
              "      <td>(0, 5)</td>\n",
              "      <td>Hey there r/assistance, Not sure if this is th...</td>\n",
              "      <td>2606</td>\n",
              "      <td>0</td>\n",
              "      <td>1.0</td>\n",
              "      <td>1527009817</td>\n",
              "      <td>4</td>\n",
              "      <td>9.429737</td>\n",
              "      <td>109</td>\n",
              "      <td>79.08</td>\n",
              "      <td>76.85</td>\n",
              "      <td>56.75</td>\n",
              "      <td>98.18</td>\n",
              "      <td>27.25</td>\n",
              "      <td>21.10</td>\n",
              "      <td>87.16</td>\n",
              "      <td>48.62</td>\n",
              "      <td>11.93</td>\n",
              "      <td>7.34</td>\n",
              "      <td>1.83</td>\n",
              "      <td>2.75</td>\n",
              "      <td>2.75</td>\n",
              "      <td>0.00</td>\n",
              "      <td>0.0</td>\n",
              "      <td>4.59</td>\n",
              "      <td>8.26</td>\n",
              "      <td>13.76</td>\n",
              "      <td>6.42</td>\n",
              "      <td>3.67</td>\n",
              "      <td>8.26</td>\n",
              "      <td>0.92</td>\n",
              "      <td>15.60</td>\n",
              "      <td>2.75</td>\n",
              "      <td>0.92</td>\n",
              "      <td>0.92</td>\n",
              "      <td>2.75</td>\n",
              "      <td>0.92</td>\n",
              "      <td>5.50</td>\n",
              "      <td>...</td>\n",
              "      <td>2.75</td>\n",
              "      <td>10.09</td>\n",
              "      <td>1.83</td>\n",
              "      <td>11.01</td>\n",
              "      <td>0.00</td>\n",
              "      <td>0.00</td>\n",
              "      <td>0.92</td>\n",
              "      <td>0.00</td>\n",
              "      <td>0.0</td>\n",
              "      <td>1.83</td>\n",
              "      <td>0.00</td>\n",
              "      <td>0.92</td>\n",
              "      <td>0.00</td>\n",
              "      <td>0.0</td>\n",
              "      <td>0.0</td>\n",
              "      <td>14.68</td>\n",
              "      <td>4.59</td>\n",
              "      <td>2.75</td>\n",
              "      <td>0.00</td>\n",
              "      <td>0.00</td>\n",
              "      <td>0.0</td>\n",
              "      <td>0.0</td>\n",
              "      <td>0.0</td>\n",
              "      <td>0.00</td>\n",
              "      <td>2.75</td>\n",
              "      <td>0.92</td>\n",
              "      <td>3.67</td>\n",
              "      <td>3.0000</td>\n",
              "      <td>2.8889</td>\n",
              "      <td>3.0</td>\n",
              "      <td>1.125</td>\n",
              "      <td>1.0000</td>\n",
              "      <td>1.0</td>\n",
              "      <td>1.69586</td>\n",
              "      <td>1.62045</td>\n",
              "      <td>1.88919</td>\n",
              "      <td>0.65</td>\n",
              "      <td>2</td>\n",
              "      <td>8.828316</td>\n",
              "      <td>0.292857</td>\n",
              "    </tr>\n",
              "    <tr>\n",
              "      <th>2</th>\n",
              "      <td>ptsd</td>\n",
              "      <td>9ch1zh</td>\n",
              "      <td>(15, 20)</td>\n",
              "      <td>My mom then hit me with the newspaper and it s...</td>\n",
              "      <td>38816</td>\n",
              "      <td>1</td>\n",
              "      <td>0.8</td>\n",
              "      <td>1535935605</td>\n",
              "      <td>2</td>\n",
              "      <td>7.769821</td>\n",
              "      <td>167</td>\n",
              "      <td>33.80</td>\n",
              "      <td>76.38</td>\n",
              "      <td>86.24</td>\n",
              "      <td>25.77</td>\n",
              "      <td>33.40</td>\n",
              "      <td>17.37</td>\n",
              "      <td>91.02</td>\n",
              "      <td>61.68</td>\n",
              "      <td>25.15</td>\n",
              "      <td>16.17</td>\n",
              "      <td>8.98</td>\n",
              "      <td>1.80</td>\n",
              "      <td>1.80</td>\n",
              "      <td>2.99</td>\n",
              "      <td>0.6</td>\n",
              "      <td>8.98</td>\n",
              "      <td>5.39</td>\n",
              "      <td>12.57</td>\n",
              "      <td>10.18</td>\n",
              "      <td>1.80</td>\n",
              "      <td>5.99</td>\n",
              "      <td>1.20</td>\n",
              "      <td>20.96</td>\n",
              "      <td>1.20</td>\n",
              "      <td>0.60</td>\n",
              "      <td>0.60</td>\n",
              "      <td>1.20</td>\n",
              "      <td>1.80</td>\n",
              "      <td>2.40</td>\n",
              "      <td>...</td>\n",
              "      <td>4.79</td>\n",
              "      <td>5.99</td>\n",
              "      <td>5.39</td>\n",
              "      <td>0.00</td>\n",
              "      <td>1.20</td>\n",
              "      <td>0.60</td>\n",
              "      <td>0.00</td>\n",
              "      <td>0.00</td>\n",
              "      <td>0.0</td>\n",
              "      <td>0.00</td>\n",
              "      <td>0.00</td>\n",
              "      <td>0.00</td>\n",
              "      <td>0.00</td>\n",
              "      <td>0.0</td>\n",
              "      <td>0.0</td>\n",
              "      <td>10.78</td>\n",
              "      <td>2.40</td>\n",
              "      <td>3.59</td>\n",
              "      <td>0.00</td>\n",
              "      <td>0.00</td>\n",
              "      <td>0.6</td>\n",
              "      <td>0.0</td>\n",
              "      <td>0.0</td>\n",
              "      <td>2.40</td>\n",
              "      <td>1.80</td>\n",
              "      <td>0.00</td>\n",
              "      <td>0.00</td>\n",
              "      <td>2.7143</td>\n",
              "      <td>3.0000</td>\n",
              "      <td>3.0</td>\n",
              "      <td>1.000</td>\n",
              "      <td>1.1429</td>\n",
              "      <td>1.0</td>\n",
              "      <td>1.83088</td>\n",
              "      <td>1.58108</td>\n",
              "      <td>1.85828</td>\n",
              "      <td>0.67</td>\n",
              "      <td>0</td>\n",
              "      <td>7.841667</td>\n",
              "      <td>0.011894</td>\n",
              "    </tr>\n",
              "    <tr>\n",
              "      <th>3</th>\n",
              "      <td>relationships</td>\n",
              "      <td>7rorpp</td>\n",
              "      <td>[5, 10]</td>\n",
              "      <td>until i met my new boyfriend, he is amazing, h...</td>\n",
              "      <td>239</td>\n",
              "      <td>1</td>\n",
              "      <td>0.6</td>\n",
              "      <td>1516429555</td>\n",
              "      <td>0</td>\n",
              "      <td>2.667798</td>\n",
              "      <td>273</td>\n",
              "      <td>2.98</td>\n",
              "      <td>15.25</td>\n",
              "      <td>95.42</td>\n",
              "      <td>79.26</td>\n",
              "      <td>54.60</td>\n",
              "      <td>8.06</td>\n",
              "      <td>98.90</td>\n",
              "      <td>65.57</td>\n",
              "      <td>30.40</td>\n",
              "      <td>23.44</td>\n",
              "      <td>16.12</td>\n",
              "      <td>0.37</td>\n",
              "      <td>0.37</td>\n",
              "      <td>6.59</td>\n",
              "      <td>0.0</td>\n",
              "      <td>6.96</td>\n",
              "      <td>3.30</td>\n",
              "      <td>9.16</td>\n",
              "      <td>8.79</td>\n",
              "      <td>6.59</td>\n",
              "      <td>9.89</td>\n",
              "      <td>3.66</td>\n",
              "      <td>20.88</td>\n",
              "      <td>3.66</td>\n",
              "      <td>1.83</td>\n",
              "      <td>1.10</td>\n",
              "      <td>0.00</td>\n",
              "      <td>1.10</td>\n",
              "      <td>8.79</td>\n",
              "      <td>...</td>\n",
              "      <td>1.83</td>\n",
              "      <td>3.30</td>\n",
              "      <td>6.23</td>\n",
              "      <td>0.73</td>\n",
              "      <td>0.37</td>\n",
              "      <td>0.37</td>\n",
              "      <td>0.00</td>\n",
              "      <td>0.00</td>\n",
              "      <td>0.0</td>\n",
              "      <td>2.56</td>\n",
              "      <td>0.00</td>\n",
              "      <td>0.73</td>\n",
              "      <td>0.73</td>\n",
              "      <td>0.0</td>\n",
              "      <td>0.0</td>\n",
              "      <td>12.09</td>\n",
              "      <td>2.56</td>\n",
              "      <td>7.33</td>\n",
              "      <td>0.00</td>\n",
              "      <td>0.00</td>\n",
              "      <td>0.0</td>\n",
              "      <td>0.0</td>\n",
              "      <td>0.0</td>\n",
              "      <td>1.47</td>\n",
              "      <td>0.00</td>\n",
              "      <td>0.73</td>\n",
              "      <td>0.00</td>\n",
              "      <td>3.0000</td>\n",
              "      <td>2.6364</td>\n",
              "      <td>3.0</td>\n",
              "      <td>1.000</td>\n",
              "      <td>1.1250</td>\n",
              "      <td>1.0</td>\n",
              "      <td>1.75356</td>\n",
              "      <td>1.52114</td>\n",
              "      <td>1.98848</td>\n",
              "      <td>0.50</td>\n",
              "      <td>5</td>\n",
              "      <td>4.104027</td>\n",
              "      <td>0.141671</td>\n",
              "    </tr>\n",
              "    <tr>\n",
              "      <th>4</th>\n",
              "      <td>survivorsofabuse</td>\n",
              "      <td>9p2gbc</td>\n",
              "      <td>[0, 5]</td>\n",
              "      <td>October is Domestic Violence Awareness Month a...</td>\n",
              "      <td>1421</td>\n",
              "      <td>1</td>\n",
              "      <td>0.8</td>\n",
              "      <td>1539809005</td>\n",
              "      <td>24</td>\n",
              "      <td>7.554238</td>\n",
              "      <td>89</td>\n",
              "      <td>32.22</td>\n",
              "      <td>28.71</td>\n",
              "      <td>84.01</td>\n",
              "      <td>1.00</td>\n",
              "      <td>17.80</td>\n",
              "      <td>31.46</td>\n",
              "      <td>88.76</td>\n",
              "      <td>52.81</td>\n",
              "      <td>15.73</td>\n",
              "      <td>11.24</td>\n",
              "      <td>7.87</td>\n",
              "      <td>0.00</td>\n",
              "      <td>0.00</td>\n",
              "      <td>3.37</td>\n",
              "      <td>0.0</td>\n",
              "      <td>4.49</td>\n",
              "      <td>4.49</td>\n",
              "      <td>8.99</td>\n",
              "      <td>13.48</td>\n",
              "      <td>4.49</td>\n",
              "      <td>4.49</td>\n",
              "      <td>2.25</td>\n",
              "      <td>13.48</td>\n",
              "      <td>4.49</td>\n",
              "      <td>2.25</td>\n",
              "      <td>1.12</td>\n",
              "      <td>1.12</td>\n",
              "      <td>1.12</td>\n",
              "      <td>7.87</td>\n",
              "      <td>...</td>\n",
              "      <td>2.25</td>\n",
              "      <td>2.25</td>\n",
              "      <td>10.11</td>\n",
              "      <td>1.12</td>\n",
              "      <td>0.00</td>\n",
              "      <td>2.25</td>\n",
              "      <td>1.12</td>\n",
              "      <td>0.00</td>\n",
              "      <td>0.0</td>\n",
              "      <td>1.12</td>\n",
              "      <td>0.00</td>\n",
              "      <td>0.00</td>\n",
              "      <td>0.00</td>\n",
              "      <td>0.0</td>\n",
              "      <td>0.0</td>\n",
              "      <td>16.85</td>\n",
              "      <td>5.62</td>\n",
              "      <td>6.74</td>\n",
              "      <td>1.12</td>\n",
              "      <td>0.00</td>\n",
              "      <td>0.0</td>\n",
              "      <td>0.0</td>\n",
              "      <td>0.0</td>\n",
              "      <td>0.00</td>\n",
              "      <td>1.12</td>\n",
              "      <td>2.25</td>\n",
              "      <td>0.00</td>\n",
              "      <td>3.0000</td>\n",
              "      <td>3.0000</td>\n",
              "      <td>3.0</td>\n",
              "      <td>1.000</td>\n",
              "      <td>1.1250</td>\n",
              "      <td>1.0</td>\n",
              "      <td>1.77644</td>\n",
              "      <td>1.64872</td>\n",
              "      <td>1.81456</td>\n",
              "      <td>1.00</td>\n",
              "      <td>1</td>\n",
              "      <td>7.910952</td>\n",
              "      <td>-0.204167</td>\n",
              "    </tr>\n",
              "  </tbody>\n",
              "</table>\n",
              "<p>5 rows × 116 columns</p>\n",
              "</div>"
            ],
            "text/plain": [
              "          subreddit post_id  ... syntax_fk_grade sentiment\n",
              "0              ptsd  8601tu  ...        3.253573 -0.002742\n",
              "1        assistance  8lbrx9  ...        8.828316  0.292857\n",
              "2              ptsd  9ch1zh  ...        7.841667  0.011894\n",
              "3     relationships  7rorpp  ...        4.104027  0.141671\n",
              "4  survivorsofabuse  9p2gbc  ...        7.910952 -0.204167\n",
              "\n",
              "[5 rows x 116 columns]"
            ]
          },
          "metadata": {
            "tags": []
          },
          "execution_count": 11
        }
      ]
    },
    {
      "cell_type": "code",
      "metadata": {
        "id": "0Fy1zRfPtG7u"
      },
      "source": [
        "subred = df['subreddit']"
      ],
      "execution_count": null,
      "outputs": []
    },
    {
      "cell_type": "code",
      "metadata": {
        "colab": {
          "base_uri": "https://localhost:8080/"
        },
        "id": "sOyi23a_psp6",
        "outputId": "13df455b-4a78-48a4-b1d2-7fb44f93707e"
      },
      "source": [
        "len(train['text'])"
      ],
      "execution_count": null,
      "outputs": [
        {
          "output_type": "execute_result",
          "data": {
            "text/plain": [
              "2838"
            ]
          },
          "metadata": {
            "tags": []
          },
          "execution_count": 29
        }
      ]
    },
    {
      "cell_type": "code",
      "metadata": {
        "colab": {
          "base_uri": "https://localhost:8080/"
        },
        "id": "ZxmZvaB7FWaU",
        "outputId": "d546f51d-a966-4bef-82d3-6b67830c6a07"
      },
      "source": [
        "subred.unique()"
      ],
      "execution_count": null,
      "outputs": [
        {
          "output_type": "execute_result",
          "data": {
            "text/plain": [
              "array(['ptsd', 'assistance', 'relationships', 'survivorsofabuse',\n",
              "       'domesticviolence', 'anxiety', 'homeless', 'stress',\n",
              "       'almosthomeless', 'food_pantry'], dtype=object)"
            ]
          },
          "metadata": {
            "tags": []
          },
          "execution_count": 28
        }
      ]
    },
    {
      "cell_type": "markdown",
      "metadata": {
        "id": "ZpyFDLeTJRtx"
      },
      "source": [
        "## **Data Preprocessing** "
      ]
    },
    {
      "cell_type": "markdown",
      "metadata": {
        "id": "a-DPLrChVR7f"
      },
      "source": [
        "Data preprocessing before going through vectorizing words.\n",
        "\n",
        "1.   Tokenization, Removal of punctuations.\n",
        "2.   Filtering stopwords\n",
        "3.   Normalization ( Stemming and Lemmatization )\n",
        "\n",
        "\n",
        "\n",
        "\n",
        "\n",
        "\n",
        "\n"
      ]
    },
    {
      "cell_type": "markdown",
      "metadata": {
        "id": "12nnUlDkXeeO"
      },
      "source": [
        "### **Tokenization, Removal of punctuations**"
      ]
    },
    {
      "cell_type": "code",
      "metadata": {
        "colab": {
          "base_uri": "https://localhost:8080/"
        },
        "id": "h2WVG7ibhQkV",
        "outputId": "e655edb0-c8ab-4a68-ec99-45ef192d2e00"
      },
      "source": [
        "nltk.download('punkt')"
      ],
      "execution_count": null,
      "outputs": [
        {
          "output_type": "stream",
          "text": [
            "[nltk_data] Downloading package punkt to /root/nltk_data...\n",
            "[nltk_data]   Unzipping tokenizers/punkt.zip.\n"
          ],
          "name": "stdout"
        },
        {
          "output_type": "execute_result",
          "data": {
            "text/plain": [
              "True"
            ]
          },
          "metadata": {
            "tags": []
          },
          "execution_count": 18
        }
      ]
    },
    {
      "cell_type": "code",
      "metadata": {
        "id": "0G8-rxpchbcW"
      },
      "source": [
        "tokenizer = RegexpTokenizer(r'[a-zA-Z]{2,}') #remove number and words has only one character\n",
        "# sr = []\n",
        "# for x in range(0,len(train['text'])):\n",
        "#   dt = tokenizer.tokenize(train['text'][x])\n",
        "#   sr.append(dt)\n",
        "train['processed_text'] = train['text'].apply(lambda x: tokenizer.tokenize(x.lower()))\n",
        "test['processed_text'] = test['text'].apply(lambda x: tokenizer.tokenize(x.lower()))"
      ],
      "execution_count": null,
      "outputs": []
    },
    {
      "cell_type": "markdown",
      "metadata": {
        "id": "5lNmbTwCsd4O"
      },
      "source": [
        "### **Filtering stopwords**"
      ]
    },
    {
      "cell_type": "code",
      "metadata": {
        "colab": {
          "base_uri": "https://localhost:8080/"
        },
        "id": "R1yKiW3EvVyz",
        "outputId": "d90d9e4c-4403-4901-8844-b8e0b3f2ca88"
      },
      "source": [
        "nltk.download('stopwords')"
      ],
      "execution_count": null,
      "outputs": [
        {
          "output_type": "stream",
          "text": [
            "[nltk_data] Downloading package stopwords to /root/nltk_data...\n",
            "[nltk_data]   Unzipping corpora/stopwords.zip.\n"
          ],
          "name": "stdout"
        },
        {
          "output_type": "execute_result",
          "data": {
            "text/plain": [
              "True"
            ]
          },
          "metadata": {
            "tags": []
          },
          "execution_count": 43
        }
      ]
    },
    {
      "cell_type": "code",
      "metadata": {
        "id": "e9Cxdlucvd6D"
      },
      "source": [
        "def filtering_stopwords(data):\n",
        "  words = [w for w in data if not w in stopwords.words('english')]\n",
        "  return words"
      ],
      "execution_count": null,
      "outputs": []
    },
    {
      "cell_type": "code",
      "metadata": {
        "id": "6ecZGb54woXz"
      },
      "source": [
        "train['processed_text'] = train['processed_text'].apply(lambda x: filtering_stopwords(x))\n",
        "test['processed_text'] = test['processed_text'].apply(lambda x: filtering_stopwords(x))\n"
      ],
      "execution_count": null,
      "outputs": []
    },
    {
      "cell_type": "markdown",
      "metadata": {
        "id": "I88MdNH10-EJ"
      },
      "source": [
        "### **Normalization**"
      ]
    },
    {
      "cell_type": "code",
      "metadata": {
        "id": "khC-ilPw1B5T"
      },
      "source": [
        "stemmer = PorterStemmer()\n",
        "def word_stemmer(data):\n",
        "    stem_text = [stemmer.stem(i) for i in data]\n",
        "    return stem_text\n",
        "\n",
        "train['processed_text'] = train['processed_text'].apply(lambda x: word_stemmer(x))\n",
        "test['processed_text'] = test['processed_text'].apply(lambda x: word_stemmer(x))"
      ],
      "execution_count": null,
      "outputs": []
    },
    {
      "cell_type": "code",
      "metadata": {
        "colab": {
          "base_uri": "https://localhost:8080/"
        },
        "id": "A7iVUhZ0QU-s",
        "outputId": "a76be1d1-a4c2-4db9-f397-a6ae0cf9411f"
      },
      "source": [
        "train['processed_text']"
      ],
      "execution_count": null,
      "outputs": [
        {
          "output_type": "execute_result",
          "data": {
            "text/plain": [
              "0       [said, felt, way, sugget, go, rest, trigger, a...\n",
              "1       [hey, assist, sure, right, place, post, goe, c...\n",
              "2       [mom, hit, newspap, shock, would, know, like, ...\n",
              "3       [met, new, boyfriend, amaz, kind, sweet, good,...\n",
              "4       [octob, domest, violenc, awar, month, domest, ...\n",
              "                              ...                        \n",
              "2833    [week, ago, preciou, ignor, jan, happi, year, ...\n",
              "2834    [abil, cope, anymor, tri, lot, thing, trigger,...\n",
              "2835    [case, first, time, read, post, look, peopl, w...\n",
              "2836    [find, normal, good, relationship, main, probl...\n",
              "2837    [talk, mom, morn, said, sister, trauma, wors, ...\n",
              "Name: processed_text, Length: 2838, dtype: object"
            ]
          },
          "metadata": {
            "tags": []
          },
          "execution_count": 59
        }
      ]
    },
    {
      "cell_type": "code",
      "metadata": {
        "colab": {
          "base_uri": "https://localhost:8080/"
        },
        "id": "3JcrEOBmReY1",
        "outputId": "f92e41bb-d6b0-4315-8f0a-c0ad3c7dc645"
      },
      "source": [
        "nltk.download('wordnet')"
      ],
      "execution_count": null,
      "outputs": [
        {
          "output_type": "stream",
          "text": [
            "[nltk_data] Downloading package wordnet to /root/nltk_data...\n",
            "[nltk_data]   Unzipping corpora/wordnet.zip.\n"
          ],
          "name": "stdout"
        },
        {
          "output_type": "execute_result",
          "data": {
            "text/plain": [
              "True"
            ]
          },
          "metadata": {
            "tags": []
          },
          "execution_count": 61
        }
      ]
    },
    {
      "cell_type": "code",
      "metadata": {
        "id": "mMtXtWNVQcan"
      },
      "source": [
        "lemmatizer = WordNetLemmatizer()\n",
        "def word_lemmatizer(data):\n",
        "  lemma_text = [lemmatizer.lemmatize(i) for i in data]\n",
        "  return lemma_text\n",
        "train['processed_text'] = train['processed_text'].apply(lambda x: word_lemmatizer(x))\n",
        "test['processed_text'] = test['processed_text'].apply(lambda x: word_lemmatizer(x))"
      ],
      "execution_count": null,
      "outputs": []
    },
    {
      "cell_type": "code",
      "metadata": {
        "colab": {
          "base_uri": "https://localhost:8080/"
        },
        "id": "J9U284DxRiPj",
        "outputId": "f73821a7-a996-4878-eb87-3e2b4d75442d"
      },
      "source": [
        "train['processed_text']"
      ],
      "execution_count": null,
      "outputs": [
        {
          "output_type": "execute_result",
          "data": {
            "text/plain": [
              "0       [said, felt, way, sugget, go, rest, trigger, a...\n",
              "1       [hey, assist, sure, right, place, post, goe, c...\n",
              "2       [mom, hit, newspap, shock, would, know, like, ...\n",
              "3       [met, new, boyfriend, amaz, kind, sweet, good,...\n",
              "4       [octob, domest, violenc, awar, month, domest, ...\n",
              "                              ...                        \n",
              "2833    [week, ago, preciou, ignor, jan, happi, year, ...\n",
              "2834    [abil, cope, anymor, tri, lot, thing, trigger,...\n",
              "2835    [case, first, time, read, post, look, peopl, w...\n",
              "2836    [find, normal, good, relationship, main, probl...\n",
              "2837    [talk, mom, morn, said, sister, trauma, wors, ...\n",
              "Name: processed_text, Length: 2838, dtype: object"
            ]
          },
          "metadata": {
            "tags": []
          },
          "execution_count": 63
        }
      ]
    },
    {
      "cell_type": "markdown",
      "metadata": {
        "id": "vMywoECrWWej"
      },
      "source": [
        "## **Word Embedding**"
      ]
    },
    {
      "cell_type": "markdown",
      "metadata": {
        "id": "L53b-TtSWz3q"
      },
      "source": [
        "Using Global Vectors for Word Representation ( GLOVE) is an “unsupervised learning algorithm for obtaining vector representations for words \"\n",
        "Reference: https://medium.com/analytics-vidhya/basics-of-using-pre-trained-glove-vectors-in-python-d38905f356db"
      ]
    },
    {
      "cell_type": "code",
      "metadata": {
        "id": "dQWXBXb0dfnf"
      },
      "source": [
        "from gensim.scripts.glove2word2vec import glove2word2vec"
      ],
      "execution_count": null,
      "outputs": []
    },
    {
      "cell_type": "code",
      "metadata": {
        "id": "W7I-UWv-1Nxt"
      },
      "source": [
        "\n"
      ],
      "execution_count": null,
      "outputs": []
    }
  ]
}